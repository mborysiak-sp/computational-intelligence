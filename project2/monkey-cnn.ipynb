{
 "cells": [
  {
   "cell_type": "markdown",
   "metadata": {
    "pycharm": {
     "name": "#%% md\n"
    }
   },
   "source": [
    "This is my project for computational intelligence based on kaggle dataset of monkeys."
   ]
  },
  {
   "cell_type": "markdown",
   "metadata": {
    "collapsed": true,
    "pycharm": {
     "name": "#%% md\n"
    }
   },
   "source": [
    "Import packages"
   ]
  },
  {
   "cell_type": "code",
   "execution_count": 1,
   "metadata": {
    "pycharm": {
     "name": "#%%\n"
    }
   },
   "outputs": [],
   "source": [
    "import os\n",
    "from pathlib import Path\n",
    "import cv2\n",
    "import pandas as pd\n",
    "import matplotlib\n",
    "import matplotlib.pyplot as plt\n",
    "import numpy as np\n",
    "from sklearn.neighbors import KNeighborsClassifier\n",
    "from sklearn.model_selection import train_test_split\n",
    "import tensorflow as tf\n",
    "from sklearn.preprocessing import LabelEncoder\n",
    "from tensorflow.python.keras.layers import Conv2D, Activation, MaxPooling2D, Dropout, Flatten, Dense\n",
    "from tensorflow.python.keras.models import Sequential\n",
    "from keras.utils import np_utils\n",
    "\n",
    "%matplotlib inline"
   ]
  },
  {
   "cell_type": "markdown",
   "metadata": {
    "pycharm": {
     "name": "#%% md\n"
    }
   },
   "source": [
    "Set data folders"
   ]
  },
  {
   "cell_type": "code",
   "execution_count": 2,
   "metadata": {
    "pycharm": {
     "name": "#%%\n"
    }
   },
   "outputs": [],
   "source": [
    "data_folder = 'data'\n",
    "training_directory = os.path.join(data_folder, 'training', 'training')\n",
    "test_directory = os.path.join(data_folder, 'validation', 'validation')\n",
    "labels_file = os.path.join(data_folder, 'monkey_labels.txt')"
   ]
  },
  {
   "cell_type": "markdown",
   "metadata": {
    "pycharm": {
     "name": "#%% md\n"
    }
   },
   "source": [
    "Read labels"
   ]
  },
  {
   "cell_type": "code",
   "execution_count": 3,
   "metadata": {
    "pycharm": {
     "name": "#%%\n"
    }
   },
   "outputs": [],
   "source": [
    "labels_df = pd.read_csv(labels_file)\n",
    "labels_df = labels_df.applymap(lambda x: x.strip() if isinstance(x, str) else x)\n",
    "labels_df.columns = labels_df.columns.str.strip()\n",
    "labels = labels_df['Common Name']"
   ]
  },
  {
   "cell_type": "markdown",
   "metadata": {
    "pycharm": {
     "name": "#%% md\n"
    }
   },
   "source": [
    "Read images from files"
   ]
  },
  {
   "cell_type": "code",
   "execution_count": 4,
   "metadata": {
    "pycharm": {
     "name": "#%%\n"
    }
   },
   "outputs": [],
   "source": [
    "def convert_image_to_vector(image, size=(32, 32)):\n",
    "    resized_image = cv2.resize(image, size)\n",
    "    flattened_image = resized_image.flatten()\n",
    "    return resized_image\n",
    "\n",
    "def process_image(file):\n",
    "     image_file = cv2.imread(file)\n",
    "     image_pixels = convert_image_to_vector(image_file)\n",
    "     image_label = file.split(os.path.sep)[-2]\n",
    "     return image_pixels, image_label"
   ]
  },
  {
   "cell_type": "code",
   "execution_count": 5,
   "metadata": {
    "pycharm": {
     "name": "#%%\n"
    }
   },
   "outputs": [],
   "source": [
    "training_images = []\n",
    "training_labels = []\n",
    "\n",
    "for path in Path(training_directory).rglob('*.jpg'):\n",
    "     image, label = process_image(str(path))\n",
    "     training_images.append(image)\n",
    "     training_labels.append(label)\n",
    "training_images = np.array(training_images)\n",
    "training_labels = np.array(training_labels)\n",
    "\n",
    "test_images = []\n",
    "test_labels = []\n",
    "\n",
    "for path in Path(test_directory).rglob('*.jpg'):\n",
    "     image, label = process_image(str(path))\n",
    "     test_images.append(image)\n",
    "     test_labels.append(label)\n",
    "test_images = np.array(test_images)\n",
    "test_labels = np.array(test_labels)"
   ]
  },
  {
   "cell_type": "code",
   "execution_count": 6,
   "metadata": {
    "pycharm": {
     "name": "#%%\n"
    }
   },
   "outputs": [],
   "source": [
    "# model = KNeighborsClassifier(n_neighbors=7)\n",
    "# model.fit(training_images, training_labels)\n",
    "# acc = model.score(test_images, test_labels)\n",
    "# print(\"[INFO] histogram accuracy: {:.2f}%\".format(acc * 100))\n"
   ]
  },
  {
   "cell_type": "markdown",
   "metadata": {
    "pycharm": {
     "name": "#%% md\n"
    }
   },
   "source": [
    "Prepare data"
   ]
  },
  {
   "cell_type": "code",
   "execution_count": 7,
   "metadata": {
    "pycharm": {
     "name": "#%%\n"
    }
   },
   "outputs": [],
   "source": [
    "training_images = training_images.astype('float32')\n",
    "test_images = test_images.astype('float32')\n",
    "# training_images = training_images.reshape(-1, 32, 32, 3)\n",
    "# test_images = test_images.reshape(-1, 32, 32, 3)\n",
    "# normalizing the data to help with the training\n",
    "\n",
    "num_classes = len(np.unique(training_labels))\n",
    "label_encoder = LabelEncoder()\n",
    "training_labels = label_encoder.fit_transform(training_labels)\n",
    "test_labels = label_encoder.fit_transform(test_labels)\n",
    "test_labels = np_utils.to_categorical(test_labels, num_classes)\n",
    "training_labels = np_utils.to_categorical(training_labels, num_classes)"
   ]
  },
  {
   "cell_type": "code",
   "execution_count": 9,
   "metadata": {
    "pycharm": {
     "name": "#%%\n"
    }
   },
   "outputs": [
    {
     "name": "stdout",
     "output_type": "stream",
     "text": [
      "Model: \"sequential_1\"\n",
      "_________________________________________________________________\n",
      "Layer (type)                 Output Shape              Param #   \n",
      "=================================================================\n",
      "conv2d_4 (Conv2D)            (None, 30, 30, 32)        896       \n",
      "_________________________________________________________________\n",
      "activation_6 (Activation)    (None, 30, 30, 32)        0         \n",
      "_________________________________________________________________\n",
      "max_pooling2d_3 (MaxPooling2 (None, 15, 15, 32)        0         \n",
      "_________________________________________________________________\n",
      "conv2d_5 (Conv2D)            (None, 13, 13, 32)        9248      \n",
      "_________________________________________________________________\n",
      "activation_7 (Activation)    (None, 13, 13, 32)        0         \n",
      "_________________________________________________________________\n",
      "max_pooling2d_4 (MaxPooling2 (None, 6, 6, 32)          0         \n",
      "_________________________________________________________________\n",
      "conv2d_6 (Conv2D)            (None, 6, 6, 64)          18496     \n",
      "_________________________________________________________________\n",
      "activation_8 (Activation)    (None, 6, 6, 64)          0         \n",
      "_________________________________________________________________\n",
      "conv2d_7 (Conv2D)            (None, 4, 4, 64)          36928     \n",
      "_________________________________________________________________\n",
      "activation_9 (Activation)    (None, 4, 4, 64)          0         \n",
      "_________________________________________________________________\n",
      "max_pooling2d_5 (MaxPooling2 (None, 2, 2, 64)          0         \n",
      "_________________________________________________________________\n",
      "dropout_2 (Dropout)          (None, 2, 2, 64)          0         \n",
      "_________________________________________________________________\n",
      "flatten_1 (Flatten)          (None, 256)               0         \n",
      "_________________________________________________________________\n",
      "dense_2 (Dense)              (None, 512)               131584    \n",
      "_________________________________________________________________\n",
      "activation_10 (Activation)   (None, 512)               0         \n",
      "_________________________________________________________________\n",
      "dropout_3 (Dropout)          (None, 512)               0         \n",
      "_________________________________________________________________\n",
      "dense_3 (Dense)              (None, 10)                5130      \n",
      "_________________________________________________________________\n",
      "activation_11 (Activation)   (None, 10)                0         \n",
      "=================================================================\n",
      "Total params: 202,282\n",
      "Trainable params: 202,282\n",
      "Non-trainable params: 0\n",
      "_________________________________________________________________\n"
     ]
    }
   ],
   "source": [
    "model = Sequential()\n",
    "model.add(Conv2D(32, (3, 3), input_shape=(32, 32, 3)))\n",
    "model.add(Activation('relu'))\n",
    "model.add(MaxPooling2D(pool_size=(2, 2)))\n",
    "\n",
    "model.add(Conv2D(32, (3, 3)))\n",
    "model.add(Activation('relu'))\n",
    "model.add(MaxPooling2D(pool_size=(2, 2)))\n",
    "\n",
    "model.add(Conv2D(64, (3, 3), padding='same'))\n",
    "model.add(Activation('relu'))\n",
    "model.add(Conv2D(64, (3, 3)))\n",
    "model.add(Activation('relu'))\n",
    "model.add(MaxPooling2D(pool_size=(2, 2)))\n",
    "model.add(Dropout(0.25))\n",
    "\n",
    "model.add(Flatten())\n",
    "model.add(Dense(512))\n",
    "model.add(Activation('relu'))\n",
    "model.add(Dropout(0.5))\n",
    "model.add(Dense(10))\n",
    "model.add(Activation('softmax'))\n",
    "\n",
    "model.compile(optimizer='adam',\n",
    "              loss='categorical_crossentropy',\n",
    "              metrics=['accuracy'])\n",
    "model.summary()\n"
   ]
  },
  {
   "cell_type": "code",
   "execution_count": 16,
   "metadata": {
    "pycharm": {
     "name": "#%%\n"
    }
   },
   "outputs": [
    {
     "name": "stdout",
     "output_type": "stream",
     "text": [
      "Epoch 1/100\n",
      "35/35 [==============================] - 1s 18ms/step - loss: 0.1375 - accuracy: 0.9690\n",
      "Epoch 2/100\n",
      "35/35 [==============================] - 1s 18ms/step - loss: 0.1676 - accuracy: 0.9553\n",
      "Epoch 3/100\n",
      "35/35 [==============================] - 1s 17ms/step - loss: 0.0994 - accuracy: 0.9735\n",
      "Epoch 4/100\n",
      "35/35 [==============================] - 1s 16ms/step - loss: 0.0692 - accuracy: 0.9836\n",
      "Epoch 5/100\n",
      "35/35 [==============================] - 1s 18ms/step - loss: 0.0853 - accuracy: 0.9781 0s - loss: 0.0687 - accura\n",
      "Epoch 6/100\n",
      "35/35 [==============================] - 1s 19ms/step - loss: 0.1966 - accuracy: 0.9516\n",
      "Epoch 7/100\n",
      "35/35 [==============================] - 1s 17ms/step - loss: 0.1544 - accuracy: 0.9580\n",
      "Epoch 8/100\n",
      "35/35 [==============================] - 1s 17ms/step - loss: 0.0987 - accuracy: 0.9781\n",
      "Epoch 9/100\n",
      "35/35 [==============================] - 1s 17ms/step - loss: 0.0597 - accuracy: 0.9881\n",
      "Epoch 10/100\n",
      "35/35 [==============================] - 1s 18ms/step - loss: 0.1280 - accuracy: 0.9745\n",
      "Epoch 11/100\n",
      "35/35 [==============================] - 1s 17ms/step - loss: 0.0754 - accuracy: 0.9781\n",
      "Epoch 12/100\n",
      "35/35 [==============================] - 1s 17ms/step - loss: 0.0508 - accuracy: 0.9909\n",
      "Epoch 13/100\n",
      "35/35 [==============================] - 1s 17ms/step - loss: 0.0551 - accuracy: 0.9845\n",
      "Epoch 14/100\n",
      "35/35 [==============================] - 1s 17ms/step - loss: 0.0945 - accuracy: 0.9754\n",
      "Epoch 15/100\n",
      "35/35 [==============================] - 1s 17ms/step - loss: 0.0908 - accuracy: 0.9781\n",
      "Epoch 16/100\n",
      "35/35 [==============================] - 1s 17ms/step - loss: 0.1905 - accuracy: 0.9617\n",
      "Epoch 17/100\n",
      "35/35 [==============================] - 1s 17ms/step - loss: 0.0868 - accuracy: 0.9781\n",
      "Epoch 18/100\n",
      "35/35 [==============================] - 1s 18ms/step - loss: 0.0392 - accuracy: 0.9863\n",
      "Epoch 19/100\n",
      "35/35 [==============================] - 1s 17ms/step - loss: 0.1086 - accuracy: 0.9726\n",
      "Epoch 20/100\n",
      "35/35 [==============================] - 1s 17ms/step - loss: 0.1644 - accuracy: 0.9571\n",
      "Epoch 21/100\n",
      "35/35 [==============================] - 1s 17ms/step - loss: 0.2280 - accuracy: 0.9553\n",
      "Epoch 22/100\n",
      "35/35 [==============================] - 1s 17ms/step - loss: 0.1727 - accuracy: 0.9708\n",
      "Epoch 23/100\n",
      "35/35 [==============================] - 1s 18ms/step - loss: 0.1065 - accuracy: 0.9717\n",
      "Epoch 24/100\n",
      "35/35 [==============================] - 1s 17ms/step - loss: 0.1007 - accuracy: 0.9772\n",
      "Epoch 25/100\n",
      "35/35 [==============================] - 1s 17ms/step - loss: 0.1273 - accuracy: 0.9672\n",
      "Epoch 26/100\n",
      "35/35 [==============================] - 1s 18ms/step - loss: 0.0671 - accuracy: 0.9827\n",
      "Epoch 27/100\n",
      "35/35 [==============================] - 1s 18ms/step - loss: 0.0838 - accuracy: 0.9818\n",
      "Epoch 28/100\n",
      "35/35 [==============================] - 1s 17ms/step - loss: 0.1373 - accuracy: 0.9763\n",
      "Epoch 29/100\n",
      "35/35 [==============================] - 1s 17ms/step - loss: 0.2649 - accuracy: 0.9407\n",
      "Epoch 30/100\n",
      "35/35 [==============================] - 1s 17ms/step - loss: 0.2767 - accuracy: 0.9352\n",
      "Epoch 31/100\n",
      "35/35 [==============================] - 1s 17ms/step - loss: 0.0881 - accuracy: 0.9781\n",
      "Epoch 32/100\n",
      "35/35 [==============================] - 1s 18ms/step - loss: 0.1139 - accuracy: 0.9781\n",
      "Epoch 33/100\n",
      "35/35 [==============================] - 1s 18ms/step - loss: 0.1294 - accuracy: 0.9726\n",
      "Epoch 34/100\n",
      "35/35 [==============================] - 1s 18ms/step - loss: 0.1208 - accuracy: 0.9708\n",
      "Epoch 35/100\n",
      "35/35 [==============================] - 1s 20ms/step - loss: 0.1821 - accuracy: 0.9589\n",
      "Epoch 36/100\n",
      "35/35 [==============================] - 1s 18ms/step - loss: 0.2289 - accuracy: 0.9580\n",
      "Epoch 37/100\n",
      "35/35 [==============================] - 1s 19ms/step - loss: 0.1099 - accuracy: 0.9735\n",
      "Epoch 38/100\n",
      "35/35 [==============================] - 1s 24ms/step - loss: 0.1392 - accuracy: 0.9745\n",
      "Epoch 39/100\n",
      "35/35 [==============================] - 1s 19ms/step - loss: 0.0636 - accuracy: 0.9845\n",
      "Epoch 40/100\n",
      "35/35 [==============================] - 1s 19ms/step - loss: 0.1655 - accuracy: 0.9735\n",
      "Epoch 41/100\n",
      "35/35 [==============================] - 1s 19ms/step - loss: 0.0729 - accuracy: 0.9799\n",
      "Epoch 42/100\n",
      "35/35 [==============================] - 1s 17ms/step - loss: 0.0969 - accuracy: 0.9827\n",
      "Epoch 43/100\n",
      "35/35 [==============================] - 1s 18ms/step - loss: 0.1205 - accuracy: 0.9690\n",
      "Epoch 44/100\n",
      "35/35 [==============================] - 1s 21ms/step - loss: 0.1472 - accuracy: 0.9708\n",
      "Epoch 45/100\n",
      "35/35 [==============================] - 1s 19ms/step - loss: 0.1627 - accuracy: 0.9790\n",
      "Epoch 46/100\n",
      "35/35 [==============================] - 1s 19ms/step - loss: 0.0791 - accuracy: 0.9790\n",
      "Epoch 47/100\n",
      "35/35 [==============================] - 1s 19ms/step - loss: 0.0958 - accuracy: 0.9808\n",
      "Epoch 48/100\n",
      "35/35 [==============================] - 1s 19ms/step - loss: 0.1308 - accuracy: 0.9708\n",
      "Epoch 49/100\n",
      "35/35 [==============================] - 1s 20ms/step - loss: 0.1227 - accuracy: 0.9708\n",
      "Epoch 50/100\n",
      "35/35 [==============================] - 1s 18ms/step - loss: 0.2068 - accuracy: 0.9608\n",
      "Epoch 51/100\n",
      "35/35 [==============================] - 1s 21ms/step - loss: 0.1130 - accuracy: 0.9754\n",
      "Epoch 52/100\n",
      "35/35 [==============================] - 1s 18ms/step - loss: 0.2583 - accuracy: 0.9516\n",
      "Epoch 53/100\n",
      "35/35 [==============================] - 1s 19ms/step - loss: 0.0813 - accuracy: 0.9808\n",
      "Epoch 54/100\n",
      "35/35 [==============================] - 1s 17ms/step - loss: 0.1158 - accuracy: 0.9781\n",
      "Epoch 55/100\n",
      "35/35 [==============================] - 1s 18ms/step - loss: 0.0926 - accuracy: 0.9790\n",
      "Epoch 56/100\n",
      "35/35 [==============================] - 1s 16ms/step - loss: 0.0797 - accuracy: 0.9818\n",
      "Epoch 57/100\n",
      "35/35 [==============================] - 1s 16ms/step - loss: 0.1130 - accuracy: 0.9754\n",
      "Epoch 58/100\n",
      "35/35 [==============================] - 1s 16ms/step - loss: 0.0735 - accuracy: 0.9827\n",
      "Epoch 59/100\n",
      "35/35 [==============================] - 1s 18ms/step - loss: 0.1588 - accuracy: 0.9763\n",
      "Epoch 60/100\n",
      "35/35 [==============================] - 1s 19ms/step - loss: 0.2225 - accuracy: 0.9672\n",
      "Epoch 61/100\n",
      "35/35 [==============================] - 1s 17ms/step - loss: 0.1448 - accuracy: 0.9735\n",
      "Epoch 62/100\n",
      "35/35 [==============================] - 1s 17ms/step - loss: 0.0633 - accuracy: 0.9872\n",
      "Epoch 63/100\n",
      "35/35 [==============================] - 1s 20ms/step - loss: 0.0798 - accuracy: 0.9854\n",
      "Epoch 64/100\n",
      "35/35 [==============================] - 1s 18ms/step - loss: 0.0267 - accuracy: 0.9918\n",
      "Epoch 65/100\n",
      "35/35 [==============================] - 1s 18ms/step - loss: 0.1098 - accuracy: 0.9772\n",
      "Epoch 66/100\n",
      "35/35 [==============================] - 1s 18ms/step - loss: 0.1115 - accuracy: 0.9745\n",
      "Epoch 67/100\n",
      "35/35 [==============================] - 1s 18ms/step - loss: 0.0369 - accuracy: 0.9845\n",
      "Epoch 68/100\n",
      "35/35 [==============================] - 1s 17ms/step - loss: 0.0859 - accuracy: 0.9845\n",
      "Epoch 69/100\n",
      "35/35 [==============================] - 1s 19ms/step - loss: 0.0787 - accuracy: 0.9891\n",
      "Epoch 70/100\n",
      "35/35 [==============================] - 1s 18ms/step - loss: 0.0845 - accuracy: 0.9808\n",
      "Epoch 71/100\n",
      "35/35 [==============================] - 1s 16ms/step - loss: 0.0747 - accuracy: 0.9845\n",
      "Epoch 72/100\n",
      "35/35 [==============================] - 1s 17ms/step - loss: 0.0731 - accuracy: 0.9818\n",
      "Epoch 73/100\n",
      "35/35 [==============================] - 1s 17ms/step - loss: 0.1947 - accuracy: 0.9662\n",
      "Epoch 74/100\n",
      "35/35 [==============================] - 1s 16ms/step - loss: 0.0355 - accuracy: 0.9900\n",
      "Epoch 75/100\n",
      "35/35 [==============================] - 1s 19ms/step - loss: 0.0394 - accuracy: 0.9872\n",
      "Epoch 76/100\n",
      "35/35 [==============================] - 1s 21ms/step - loss: 0.0618 - accuracy: 0.9900\n",
      "Epoch 77/100\n",
      "35/35 [==============================] - 1s 21ms/step - loss: 0.0862 - accuracy: 0.9836\n",
      "Epoch 78/100\n",
      "35/35 [==============================] - 1s 20ms/step - loss: 0.0712 - accuracy: 0.9863\n",
      "Epoch 79/100\n",
      "35/35 [==============================] - 1s 17ms/step - loss: 0.1259 - accuracy: 0.9772\n",
      "Epoch 80/100\n",
      "35/35 [==============================] - 1s 18ms/step - loss: 0.1989 - accuracy: 0.9662\n",
      "Epoch 81/100\n",
      "35/35 [==============================] - 1s 18ms/step - loss: 0.2858 - accuracy: 0.9599\n",
      "Epoch 82/100\n",
      "35/35 [==============================] - 1s 19ms/step - loss: 0.2694 - accuracy: 0.9535\n",
      "Epoch 83/100\n",
      "35/35 [==============================] - 1s 16ms/step - loss: 0.1156 - accuracy: 0.9745\n",
      "Epoch 84/100\n",
      "35/35 [==============================] - 1s 16ms/step - loss: 0.2219 - accuracy: 0.9635\n",
      "Epoch 85/100\n",
      "35/35 [==============================] - 1s 16ms/step - loss: 0.3564 - accuracy: 0.9370\n",
      "Epoch 86/100\n",
      "35/35 [==============================] - 1s 17ms/step - loss: 0.2367 - accuracy: 0.9589ETA: 0s - loss: 0.0157 - \n",
      "Epoch 87/100\n",
      "35/35 [==============================] - 1s 16ms/step - loss: 0.2649 - accuracy: 0.9516\n",
      "Epoch 88/100\n",
      "35/35 [==============================] - 1s 16ms/step - loss: 0.1652 - accuracy: 0.9672\n",
      "Epoch 89/100\n",
      "35/35 [==============================] - 1s 17ms/step - loss: 0.0591 - accuracy: 0.9854\n",
      "Epoch 90/100\n",
      "35/35 [==============================] - 1s 16ms/step - loss: 0.0993 - accuracy: 0.9808\n",
      "Epoch 91/100\n",
      "35/35 [==============================] - 1s 20ms/step - loss: 0.1082 - accuracy: 0.9772\n",
      "Epoch 92/100\n",
      "35/35 [==============================] - 1s 21ms/step - loss: 0.0905 - accuracy: 0.9808\n",
      "Epoch 93/100\n",
      "35/35 [==============================] - 1s 18ms/step - loss: 0.0361 - accuracy: 0.9891\n",
      "Epoch 94/100\n",
      "35/35 [==============================] - 1s 20ms/step - loss: 0.0628 - accuracy: 0.9845\n",
      "Epoch 95/100\n",
      "35/35 [==============================] - 1s 23ms/step - loss: 0.2656 - accuracy: 0.9562 0s - loss: 0.1544 - ac\n",
      "Epoch 96/100\n",
      "35/35 [==============================] - 1s 22ms/step - loss: 0.3976 - accuracy: 0.9197\n",
      "Epoch 97/100\n",
      "35/35 [==============================] - 1s 17ms/step - loss: 0.4294 - accuracy: 0.9279\n",
      "Epoch 98/100\n",
      "35/35 [==============================] - 1s 16ms/step - loss: 0.1568 - accuracy: 0.9608\n",
      "Epoch 99/100\n",
      "35/35 [==============================] - 1s 18ms/step - loss: 0.1000 - accuracy: 0.9726\n",
      "Epoch 100/100\n",
      "35/35 [==============================] - 1s 18ms/step - loss: 0.0576 - accuracy: 0.9863\n"
     ]
    }
   ],
   "source": [
    "checkpoint_filepath = 'checkpoint.h5'\n",
    "model_checkpoint_callback = tf.keras.callbacks.ModelCheckpoint(\n",
    "    filepath=checkpoint_filepath,\n",
    "    save_weights_only=True,\n",
    "    monitor='accuracy',\n",
    "    mode='max',\n",
    "    save_best_only=True)\n",
    "\n",
    "model.fit(training_images, training_labels, epochs=100, callbacks=[model_checkpoint_callback])\n",
    "model.load_weights(checkpoint_filepath)"
   ]
  },
  {
   "cell_type": "markdown",
   "source": [
    "Test accuracy"
   ],
   "metadata": {
    "collapsed": false,
    "pycharm": {
     "name": "#%% md\n"
    }
   }
  },
  {
   "cell_type": "code",
   "execution_count": 35,
   "metadata": {},
   "outputs": [
    {
     "name": "stdout",
     "output_type": "stream",
     "text": [
      "9/9 - 0s - loss: 4.3750 - accuracy: 0.5478\n",
      "\n",
      "Test accuracy: 0.5477941036224365\n"
     ]
    }
   ],
   "source": [
    "test_loss, test_acc = model.evaluate(test_images,  test_labels, verbose=2)\n",
    "print('\\nTest accuracy:', test_acc)"
   ]
  },
  {
   "cell_type": "markdown",
   "source": [
    "Test on one image"
   ],
   "metadata": {
    "collapsed": false,
    "pycharm": {
     "name": "#%% md\n"
    }
   }
  },
  {
   "cell_type": "code",
   "execution_count": 47,
   "metadata": {},
   "outputs": [
    {
     "name": "stdout",
     "output_type": "stream",
     "text": [
      "common_squirrel_monkey\n",
      "0               mantled_howler\n",
      "1                 patas_monkey\n",
      "2                  bald_uakari\n",
      "3             japanese_macaque\n",
      "4               pygmy_marmoset\n",
      "5        white_headed_capuchin\n",
      "6             silvery_marmoset\n",
      "7       common_squirrel_monkey\n",
      "8    black_headed_night_monkey\n",
      "9               nilgiri_langur\n",
      "Name: Common Name, dtype: object\n"
     ]
    }
   ],
   "source": [
    "n = 200\n",
    "test_image = test_images[n]\n",
    "test_image = np.expand_dims(test_image, axis=0)\n",
    "prediction = model.predict(test_image, batch_size=1)\n",
    "print(labels[np.argmax(prediction)])\n",
    "print(labels)"
   ]
  },
  {
   "cell_type": "code",
   "execution_count": null,
   "metadata": {},
   "outputs": [],
   "source": []
  }
 ],
 "metadata": {
  "kernelspec": {
   "display_name": "Python 3",
   "language": "python",
   "name": "python3"
  },
  "language_info": {
   "codemirror_mode": {
    "name": "ipython",
    "version": 3
   },
   "file_extension": ".py",
   "mimetype": "text/x-python",
   "name": "python",
   "nbconvert_exporter": "python",
   "pygments_lexer": "ipython3",
   "version": "3.8.7"
  }
 },
 "nbformat": 4,
 "nbformat_minor": 1
}